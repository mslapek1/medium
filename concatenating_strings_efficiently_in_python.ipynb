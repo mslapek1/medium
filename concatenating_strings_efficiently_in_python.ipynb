{
  "nbformat": 4,
  "nbformat_minor": 0,
  "metadata": {
    "colab": {
      "name": "concatenating-strings-efficiently-in-python.ipynb",
      "provenance": [],
      "collapsed_sections": [],
      "authorship_tag": "ABX9TyNSYrKRTooBGkBIIiHltyEX",
      "include_colab_link": true
    },
    "kernelspec": {
      "name": "python3",
      "display_name": "Python 3"
    }
  },
  "cells": [
    {
      "cell_type": "markdown",
      "metadata": {
        "id": "view-in-github",
        "colab_type": "text"
      },
      "source": [
        "<a href=\"https://colab.research.google.com/github/mslapek1/medium/blob/main/concatenating_strings_efficiently_in_python.ipynb\" target=\"_parent\"><img src=\"https://colab.research.google.com/assets/colab-badge.svg\" alt=\"Open In Colab\"/></a>"
      ]
    },
    {
      "cell_type": "markdown",
      "metadata": {
        "id": "mWl6aqy0PlUO"
      },
      "source": [
        "\r\n",
        "# Bad way\r\n"
      ]
    },
    {
      "cell_type": "code",
      "metadata": {
        "colab": {
          "base_uri": "https://localhost:8080/"
        },
        "id": "rtHR90TcPS6Q",
        "outputId": "339baa9b-7df5-4fc2-9352-503e9a695381"
      },
      "source": [
        "x = \"Hello \"\r\n",
        "y = \"World\"\r\n",
        "\r\n",
        "print(x + y)"
      ],
      "execution_count": 3,
      "outputs": [
        {
          "output_type": "stream",
          "text": [
            "Hello World\n"
          ],
          "name": "stdout"
        }
      ]
    },
    {
      "cell_type": "markdown",
      "metadata": {
        "id": "C33cKhaSQjJ0"
      },
      "source": [
        "# Good way"
      ]
    },
    {
      "cell_type": "code",
      "metadata": {
        "colab": {
          "base_uri": "https://localhost:8080/"
        },
        "id": "wHNbtyZwPxgt",
        "outputId": "f50602e6-d93c-406f-889b-a7a42be80bf6"
      },
      "source": [
        "def concat_strings(input_string):\r\n",
        "    \"\"\"\r\n",
        "    This is a program to remove spaces in a string\r\n",
        "    :return:\r\n",
        "    \"\"\"\r\n",
        "\r\n",
        "    output_lst = list()\r\n",
        "\r\n",
        "    for i in input_string:\r\n",
        "        if i == \" \":\r\n",
        "            pass\r\n",
        "        else:\r\n",
        "            output_lst.append(i)\r\n",
        "\r\n",
        "    print(\"\".join(output_lst))\r\n",
        "\r\n",
        "concat_strings(\"HE HE DO IT YOU ARE RIGHT\")"
      ],
      "execution_count": 9,
      "outputs": [
        {
          "output_type": "stream",
          "text": [
            "HEHEDOITYOUARERIGHT\n"
          ],
          "name": "stdout"
        }
      ]
    }
  ]
}